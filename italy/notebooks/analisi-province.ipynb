{
 "cells": [
  {
   "cell_type": "markdown",
   "metadata": {},
   "source": [
    "# Import dependencies"
   ]
  },
  {
   "cell_type": "code",
   "execution_count": null,
   "metadata": {},
   "outputs": [],
   "source": [
    "import pandas as pd\n",
    "from datetime import datetime\n",
    "import matplotlib.pyplot as plt\n",
    "import matplotlib.dates as mdates\n",
    "\n",
    "%matplotlib inline"
   ]
  },
  {
   "cell_type": "markdown",
   "metadata": {},
   "source": [
    "# Functions"
   ]
  },
  {
   "cell_type": "code",
   "execution_count": null,
   "metadata": {},
   "outputs": [],
   "source": [
    "def plot_region(df, regione):\n",
    "    df_regione = df[df[\"denominazione_regione\"] == regione]\n",
    "    province = list(df_regione[\"denominazione_provincia\"].unique())\n",
    "    \n",
    "    plt.rcParams.update({\"legend.fontsize\": \"x-large\",\n",
    "                         \"figure.figsize\": (20, 15),\n",
    "                         'xtick.labelsize': 10})\n",
    "    ax = plt.gca()\n",
    "    formatter = mdates.DateFormatter(\"%m-%d\")\n",
    "    ax.xaxis.set_major_formatter(formatter)\n",
    "    locator = mdates.DayLocator()\n",
    "    ax.xaxis.set_major_locator(locator)\n",
    "\n",
    "    for i in range(len(province)):\n",
    "        df_provincia = df_regione[df_regione[\"denominazione_provincia\"] == province[i]]\n",
    "        \n",
    "        data = df_provincia[\"data\"].values\n",
    "        totale_casi = df_provincia[\"totale_casi\"].values\n",
    "        plt.plot(data, totale_casi, label=province[i])\n",
    "    \n",
    "    totale_casi = (df[df[\"denominazione_regione\"] == regione]\n",
    "                   .groupby([\"data\"])[\"totale_casi\"]\n",
    "                   .sum().values)\n",
    "    plt.plot(data, totale_casi, label=\"Totale %s\" % regione)\n",
    "    \n",
    "    plt.legend(loc=\"upper left\")\n",
    "    plt.show()    "
   ]
  },
  {
   "cell_type": "markdown",
   "metadata": {},
   "source": [
    "# Load data"
   ]
  },
  {
   "cell_type": "code",
   "execution_count": null,
   "metadata": {},
   "outputs": [],
   "source": [
    "dati_province_fpath = \"../../dati-province/dpc-covid19-ita-province.csv\"\n",
    "df = pd.read_csv(dati_province_fpath, sep=\",\")"
   ]
  },
  {
   "cell_type": "code",
   "execution_count": null,
   "metadata": {},
   "outputs": [],
   "source": [
    "df.head()"
   ]
  },
  {
   "cell_type": "markdown",
   "metadata": {},
   "source": [
    "## Coverti data: string to datetime object"
   ]
  },
  {
   "cell_type": "code",
   "execution_count": null,
   "metadata": {},
   "outputs": [],
   "source": [
    "df.loc[:, \"data\"] = df.loc[:, \"data\"].apply(lambda x: datetime.strptime(x, \"%Y-%m-%d %H:%M:%S\"))"
   ]
  },
  {
   "cell_type": "code",
   "execution_count": null,
   "metadata": {},
   "outputs": [],
   "source": [
    "df.head()"
   ]
  },
  {
   "cell_type": "markdown",
   "metadata": {},
   "source": [
    "# Totale per regione"
   ]
  },
  {
   "cell_type": "code",
   "execution_count": null,
   "metadata": {},
   "outputs": [],
   "source": [
    "df_totale_regione = (df[ df[\"data\"] == df[\"data\"].max() ]\n",
    "                     .groupby([\"denominazione_regione\"], as_index=False)[\"totale_casi\"].sum()\n",
    "                     .sort_values([\"totale_casi\"], ascending=[False])) "
   ]
  },
  {
   "cell_type": "code",
   "execution_count": null,
   "metadata": {},
   "outputs": [],
   "source": [
    "df_totale_regione"
   ]
  },
  {
   "cell_type": "code",
   "execution_count": null,
   "metadata": {},
   "outputs": [],
   "source": [
    "df_totale_regione[\"totale_casi\"].sum()"
   ]
  },
  {
   "cell_type": "markdown",
   "metadata": {},
   "source": [
    "## Senza Lombardia"
   ]
  },
  {
   "cell_type": "code",
   "execution_count": null,
   "metadata": {},
   "outputs": [],
   "source": [
    "df_totale_regione = (df[ (df[\"data\"] == df[\"data\"].max()) & \n",
    "                         (df[\"denominazione_regione\"] != \"Lombardia\") ]\n",
    "                     .groupby([\"denominazione_regione\"], as_index=False)[\"totale_casi\"].sum()\n",
    "                     .sort_values([\"totale_casi\"], ascending=[False])) "
   ]
  },
  {
   "cell_type": "code",
   "execution_count": null,
   "metadata": {},
   "outputs": [],
   "source": [
    "df_totale_regione[\"totale_casi\"].sum()"
   ]
  },
  {
   "cell_type": "markdown",
   "metadata": {},
   "source": [
    "# Andamento Lombardia"
   ]
  },
  {
   "cell_type": "code",
   "execution_count": null,
   "metadata": {},
   "outputs": [],
   "source": [
    "plot_region(df, \"Lombardia\")"
   ]
  },
  {
   "cell_type": "markdown",
   "metadata": {},
   "source": [
    "# Andamento Emilia Romagna"
   ]
  },
  {
   "cell_type": "code",
   "execution_count": null,
   "metadata": {},
   "outputs": [],
   "source": [
    "plot_region(df, \"Emilia Romagna\")"
   ]
  },
  {
   "cell_type": "markdown",
   "metadata": {},
   "source": [
    "# Andamento Veneto"
   ]
  },
  {
   "cell_type": "code",
   "execution_count": null,
   "metadata": {},
   "outputs": [],
   "source": [
    "plot_region(df, \"Veneto\")"
   ]
  },
  {
   "cell_type": "markdown",
   "metadata": {},
   "source": [
    "# Andamento Sardegna"
   ]
  },
  {
   "cell_type": "code",
   "execution_count": null,
   "metadata": {},
   "outputs": [],
   "source": [
    "df_province = (df[(df[\"data\"] == df[\"data\"].max()) & \n",
    "         (df[\"denominazione_regione\"] == \"Sardegna\")][[\"denominazione_provincia\", \"totale_casi\"]]\n",
    "     )"
   ]
  },
  {
   "cell_type": "code",
   "execution_count": null,
   "metadata": {},
   "outputs": [],
   "source": [
    "df_province"
   ]
  },
  {
   "cell_type": "code",
   "execution_count": null,
   "metadata": {},
   "outputs": [],
   "source": [
    "plot_region(df, \"Sardegna\")"
   ]
  },
  {
   "cell_type": "code",
   "execution_count": null,
   "metadata": {},
   "outputs": [],
   "source": []
  }
 ],
 "metadata": {
  "kernelspec": {
   "display_name": "Python 3",
   "language": "python",
   "name": "python3"
  },
  "language_info": {
   "codemirror_mode": {
    "name": "ipython",
    "version": 3
   },
   "file_extension": ".py",
   "mimetype": "text/x-python",
   "name": "python",
   "nbconvert_exporter": "python",
   "pygments_lexer": "ipython3",
   "version": "3.8.1"
  }
 },
 "nbformat": 4,
 "nbformat_minor": 4
}
